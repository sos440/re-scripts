{
 "cells": [
  {
   "cell_type": "code",
   "execution_count": 1,
   "id": "a34364f7",
   "metadata": {},
   "outputs": [
    {
     "name": "stdout",
     "output_type": "stream",
     "text": [
      "['', 'Alchemy', 'Anatomy', 'Animal Lore', 'Animal Taming', 'Archery', 'Arms Lore', 'Blacksmithing', 'Bushido', 'Carpentry', 'Cartography', 'Chivalry', 'Cooking', 'Discordance', 'Evaluate Intelligence', 'Fencing', 'Fishing', 'Fletching', 'Focus', 'Healing', 'Hiding', 'Imbuing', 'Inscription', 'Lockpicking', 'Lumberjacking', 'Mace Fighting', 'Magery', 'Meditation', 'Mining', 'Musicianship', 'Mysticism', 'Necromancy', 'Ninjitsu', 'Parrying', 'Peacemaking', 'Poisoning', 'Provocation', 'Remove Trap', 'Resisting Spells', 'Spellweaving', 'Spirit Speak', 'Stealing', 'Stealth', 'Swordsmanship', 'Tactics', 'Tailoring', 'Throwing', 'Tinkering', 'Veterinary', 'Wrestling']\n"
     ]
    }
   ],
   "source": [
    "BOOK_MELEE = 0x57BE5E26\n",
    "BOOK_MAGIC = 0x5DE465B6\n",
    "BOOK_BARD = 0x6FC163F0\n",
    "BOOK_CRAFT = 0x6FC163F0\n",
    "BOOK_TAMING = 0x6FC163F0\n",
    "BOOK_ROGUE = 0x6FC163F0\n",
    "\n",
    "scroll_map = {\n",
    "    # Melee\n",
    "    \"Anatomy\": BOOK_MELEE,\n",
    "    \"Archery\": BOOK_MELEE,\n",
    "    \"Arms Lore\": BOOK_MELEE,\n",
    "    \"Anatomy\": BOOK_MELEE,\n",
    "    \"Fencing\": BOOK_MELEE,\n",
    "    \"Focus\": BOOK_MELEE,\n",
    "    \"Healing\": BOOK_MELEE,\n",
    "    \"Mace Fighting\": BOOK_MELEE,\n",
    "    \"Parrying\": BOOK_MELEE,\n",
    "    \"Swordsmanship\": BOOK_MELEE,\n",
    "    \"Tactics\": BOOK_MELEE,\n",
    "    \"Throwing\": BOOK_MELEE,\n",
    "    \"Wrestling\": BOOK_MELEE,\n",
    "    # Magic\n",
    "    \"Bushido\": BOOK_MAGIC,\n",
    "    \"Chivalry\": BOOK_MAGIC,\n",
    "    \"Evaluate Intelligence\": BOOK_MAGIC,\n",
    "    \"Magery\": BOOK_MAGIC,\n",
    "    \"Meditation\": BOOK_MAGIC,\n",
    "    \"Necromancy\": BOOK_MAGIC,\n",
    "    \"Ninjitsu\": BOOK_MAGIC,\n",
    "    \"Resisting Spells\": BOOK_MAGIC,\n",
    "    \"Spellweaving\": BOOK_MAGIC,\n",
    "    \"Spirit Speak\": BOOK_MAGIC,\n",
    "    \"Mysticism\": BOOK_MAGIC,\n",
    "    # Bard\n",
    "    \"Discordance\": BOOK_BARD,\n",
    "    \"Musicianship\": BOOK_BARD,\n",
    "    \"Peacemaking\": BOOK_BARD,\n",
    "    \"Provocation\": BOOK_BARD,\n",
    "    # Craft\n",
    "    \"Alchemy\": BOOK_CRAFT,\n",
    "    \"Blacksmithing\": BOOK_CRAFT,\n",
    "    \"Fletching\": BOOK_CRAFT,\n",
    "    \"Carpentry\": BOOK_CRAFT,\n",
    "    \"Cooking\": BOOK_CRAFT,\n",
    "    \"Cartography\": BOOK_CRAFT,\n",
    "    \"Tailoring\": BOOK_CRAFT,\n",
    "    \"Tinkering\": BOOK_CRAFT,\n",
    "    \"Imbuing\": BOOK_CRAFT,\n",
    "    \"Inscription\": BOOK_CRAFT,\n",
    "    \"Fishing\": BOOK_CRAFT,\n",
    "    \"Mining\": BOOK_CRAFT,\n",
    "    \"Lumberjacking\": BOOK_CRAFT,\n",
    "    # Taming\n",
    "    \"Animal Lore\": BOOK_TAMING,\n",
    "    \"Animal Taming\": BOOK_TAMING,\n",
    "    \"Veterinary\": BOOK_TAMING,\n",
    "    \"\": BOOK_TAMING,\n",
    "    # Rogue\n",
    "    \"Hiding\": BOOK_ROGUE,\n",
    "    \"Lockpicking\": BOOK_ROGUE,\n",
    "    \"Poisoning\": BOOK_ROGUE,\n",
    "    \"Remove Trap\": BOOK_ROGUE,\n",
    "    \"Stealing\": BOOK_ROGUE,\n",
    "    \"Stealth\": BOOK_ROGUE,\n",
    "}\n",
    "\n",
    "print(sorted(scroll_map.keys()))"
   ]
  },
  {
   "cell_type": "code",
   "execution_count": null,
   "id": "46aa3b39",
   "metadata": {},
   "outputs": [],
   "source": []
  }
 ],
 "metadata": {
  "kernelspec": {
   "display_name": "uo",
   "language": "python",
   "name": "python3"
  },
  "language_info": {
   "codemirror_mode": {
    "name": "ipython",
    "version": 3
   },
   "file_extension": ".py",
   "mimetype": "text/x-python",
   "name": "python",
   "nbconvert_exporter": "python",
   "pygments_lexer": "ipython3",
   "version": "3.12.7"
  }
 },
 "nbformat": 4,
 "nbformat_minor": 5
}
