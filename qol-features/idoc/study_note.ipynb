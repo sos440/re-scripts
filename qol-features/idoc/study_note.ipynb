{
 "cells": [
  {
   "cell_type": "markdown",
   "id": "f2437220",
   "metadata": {},
   "source": [
    "* Tower: `16506`\n",
    "* 18x18 Custon: `21627`\n",
    "* 7x10 Custom: `21500`\n",
    "* `21566`"
   ]
  },
  {
   "cell_type": "markdown",
   "id": "2f14c30a",
   "metadata": {},
   "source": [
    "16506 - 122 = 16384"
   ]
  },
  {
   "cell_type": "markdown",
   "id": "23264175",
   "metadata": {},
   "source": [
    "`mulit item ID` = 16384 + `multi index`"
   ]
  },
  {
   "cell_type": "markdown",
   "id": "537878a6",
   "metadata": {},
   "source": []
  }
 ],
 "metadata": {
  "language_info": {
   "name": "python"
  }
 },
 "nbformat": 4,
 "nbformat_minor": 5
}
