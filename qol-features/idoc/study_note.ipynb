{
 "cells": [
  {
   "cell_type": "markdown",
   "id": "f2437220",
   "metadata": {},
   "source": [
    "* Tower: `16506`\n",
    "* 18x18 Custon: `21627`\n",
    "* 7x10 Custom: `21500`\n",
    "* `21566`"
   ]
  }
 ],
 "metadata": {
  "language_info": {
   "name": "python"
  }
 },
 "nbformat": 4,
 "nbformat_minor": 5
}
